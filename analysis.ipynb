{
 "cells": [
  {
   "cell_type": "code",
   "execution_count": 1,
   "id": "857bb13b",
   "metadata": {},
   "outputs": [],
   "source": [
    "%load_ext autoreload\n",
    "%autoreload 2\n",
    "\n",
    "import utils\n",
    "\n"
   ]
  },
  {
   "cell_type": "code",
   "execution_count": 5,
   "id": "fda9bfb2",
   "metadata": {},
   "outputs": [
    {
     "data": {
      "text/plain": [
       "<All keys matched successfully>"
      ]
     },
     "execution_count": 5,
     "metadata": {},
     "output_type": "execute_result"
    }
   ],
   "source": [
    "import torch\n",
    "\n",
    "class just_rotation(torch.nn.Module):\n",
    "    \n",
    "    def __init__(self, in_dimension = 512, total_attr = 1200, device = torch.device('cuda')):\n",
    "    \n",
    "        super().__init__()\n",
    "        self.rotation = torch.nn.Linear(in_dimension, total_attr)\n",
    "        self.require_all_grads()\n",
    "\n",
    "    def require_all_grads(self):\n",
    "        for param in self.parameters():\n",
    "            param.requires_grad = True\n",
    "    \n",
    "    def forward(self, x, temp=None):\n",
    "        return self.rotation(x)\n",
    "\n",
    "m = just_rotation(in_dimension=512, total_attr=309)\n",
    "m.load_state_dict(torch.load('new_attr_align/feature_final.pth', map_location=torch.device('cpu'))['model'])"
   ]
  },
  {
   "cell_type": "code",
   "execution_count": 6,
   "id": "06aaaeef",
   "metadata": {
    "collapsed": true
   },
   "outputs": [
    {
     "ename": "FileNotFoundError",
     "evalue": "[Errno 2] No such file or directory: 'ADE20k/ade20k_imagelabels_with_texture.pkl'",
     "output_type": "error",
     "traceback": [
      "\u001b[0;31m---------------------------------------------------------------------------\u001b[0m",
      "\u001b[0;31mFileNotFoundError\u001b[0m                         Traceback (most recent call last)",
      "\u001b[0;32m<ipython-input-6-01922ef510a0>\u001b[0m in \u001b[0;36m<module>\u001b[0;34m\u001b[0m\n\u001b[0;32m----> 1\u001b[0;31m \u001b[0mfeat\u001b[0m\u001b[0;34m,\u001b[0m \u001b[0mattr1200\u001b[0m\u001b[0;34m,\u001b[0m \u001b[0mpred365\u001b[0m\u001b[0;34m,\u001b[0m \u001b[0mlogits365\u001b[0m\u001b[0;34m,\u001b[0m \u001b[0mname\u001b[0m \u001b[0;34m=\u001b[0m \u001b[0mutils\u001b[0m\u001b[0;34m.\u001b[0m\u001b[0mget_ade20k_features\u001b[0m\u001b[0;34m(\u001b[0m\u001b[0;34m)\u001b[0m\u001b[0;34m\u001b[0m\u001b[0;34m\u001b[0m\u001b[0m\n\u001b[0m\u001b[1;32m      2\u001b[0m \u001b[0m_\u001b[0m\u001b[0;34m,\u001b[0m \u001b[0m_\u001b[0m\u001b[0;34m,\u001b[0m \u001b[0mpred16\u001b[0m\u001b[0;34m,\u001b[0m \u001b[0mlogits16\u001b[0m\u001b[0;34m,\u001b[0m \u001b[0m_\u001b[0m \u001b[0;34m=\u001b[0m \u001b[0mutils\u001b[0m\u001b[0;34m.\u001b[0m\u001b[0mget_ade20k_features_scenegroup\u001b[0m\u001b[0;34m(\u001b[0m\u001b[0;34m)\u001b[0m\u001b[0;34m\u001b[0m\u001b[0;34m\u001b[0m\u001b[0m\n\u001b[1;32m      3\u001b[0m \u001b[0m_\u001b[0m\u001b[0;34m,\u001b[0m \u001b[0m_\u001b[0m\u001b[0;34m,\u001b[0m \u001b[0mpred2\u001b[0m\u001b[0;34m,\u001b[0m \u001b[0mlogits2\u001b[0m\u001b[0;34m,\u001b[0m\u001b[0m_\u001b[0m \u001b[0;34m=\u001b[0m \u001b[0mutils\u001b[0m\u001b[0;34m.\u001b[0m\u001b[0mget_ade20k_features_binary\u001b[0m\u001b[0;34m(\u001b[0m\u001b[0;34m)\u001b[0m\u001b[0;34m\u001b[0m\u001b[0;34m\u001b[0m\u001b[0m\n\u001b[1;32m      4\u001b[0m \u001b[0;34m\u001b[0m\u001b[0m\n\u001b[1;32m      5\u001b[0m \u001b[0mrot_feat\u001b[0m \u001b[0;34m=\u001b[0m \u001b[0;34m{\u001b[0m\u001b[0;34m}\u001b[0m\u001b[0;34m\u001b[0m\u001b[0;34m\u001b[0m\u001b[0m\n",
      "\u001b[0;32m~/VRSZ_Interpretability/ICCV_supplementary/code/utils.py\u001b[0m in \u001b[0;36mget_ade20k_features\u001b[0;34m(non_zero)\u001b[0m\n\u001b[1;32m    164\u001b[0m     \u001b[0mlogits\u001b[0m \u001b[0;34m=\u001b[0m \u001b[0;34m{\u001b[0m\u001b[0;34m'train'\u001b[0m\u001b[0;34m:\u001b[0m\u001b[0;34m[\u001b[0m\u001b[0;34m]\u001b[0m\u001b[0;34m,\u001b[0m \u001b[0;34m'val'\u001b[0m\u001b[0;34m:\u001b[0m\u001b[0;34m[\u001b[0m\u001b[0;34m]\u001b[0m\u001b[0;34m,\u001b[0m \u001b[0;34m'test'\u001b[0m\u001b[0;34m:\u001b[0m\u001b[0;34m[\u001b[0m\u001b[0;34m]\u001b[0m\u001b[0;34m}\u001b[0m\u001b[0;34m\u001b[0m\u001b[0;34m\u001b[0m\u001b[0m\n\u001b[1;32m    165\u001b[0m \u001b[0;34m\u001b[0m\u001b[0m\n\u001b[0;32m--> 166\u001b[0;31m     \u001b[0mA\u001b[0m \u001b[0;34m=\u001b[0m \u001b[0mpickle\u001b[0m\u001b[0;34m.\u001b[0m\u001b[0mload\u001b[0m\u001b[0;34m(\u001b[0m\u001b[0mopen\u001b[0m\u001b[0;34m(\u001b[0m\u001b[0;34m'ADE20k/ade20k_imagelabels_with_texture.pkl'\u001b[0m\u001b[0;34m,\u001b[0m \u001b[0;34m'rb'\u001b[0m\u001b[0;34m)\u001b[0m\u001b[0;34m)\u001b[0m\u001b[0;34m\u001b[0m\u001b[0;34m\u001b[0m\u001b[0m\n\u001b[0m\u001b[1;32m    167\u001b[0m \u001b[0;34m\u001b[0m\u001b[0m\n\u001b[1;32m    168\u001b[0m \u001b[0;34m\u001b[0m\u001b[0m\n",
      "\u001b[0;31mFileNotFoundError\u001b[0m: [Errno 2] No such file or directory: 'ADE20k/ade20k_imagelabels_with_texture.pkl'"
     ]
    }
   ],
   "source": [
    "feat, attr1200, pred365, logits365, name = utils.get_ade20k_features()\n",
    "_, _, pred16, logits16, _ = utils.get_ade20k_features_scenegroup()\n",
    "_, _, pred2, logits2,_ = utils.get_ade20k_features_binary()\n",
    "\n",
    "rot_feat = {}\n",
    "for a in feat.keys():\n",
    "    rot_feat[a] = m(torch.Tensor(feat[a])).detach().numpy()"
   ]
  },
  {
   "cell_type": "code",
   "execution_count": 22,
   "id": "d592e286",
   "metadata": {},
   "outputs": [],
   "source": [
    "from sklearn.metrics import roc_auc_score\n",
    "\n",
    "nap_scores = {}\n",
    "roc_scores = {}\n",
    "\n",
    "for i, a in enumerate(chosen_attr):\n",
    "    nap_scores[a] = utils.normalized_ap(attr1200['val'][:, a], rot_feat['val'][:, i])\n",
    "    roc_scores[a] = roc_auc_score(attr1200['val'][:, a], rot_feat['val'][:, i])"
   ]
  },
  {
   "cell_type": "code",
   "execution_count": 8,
   "id": "4103cb28",
   "metadata": {},
   "outputs": [],
   "source": [
    "import pickle\n",
    "\n",
    "chosen_attr = pickle.load(open('attr_splits/over20.pkl', 'rb'))\n",
    "less_attr = pickle.load(open('attr_splits/to_keep_less_under.pkl', 'rb'))\n",
    "less_attr = [chosen_attr[i] for i in less_attr]\n",
    "\n",
    "\n",
    "somewhat_attr = pickle.load(open('attr_splits/to_keep_somewhat_under.pkl', 'rb'))\n",
    "somewhat_attr = [chosen_attr[i] for i in somewhat_attr]\n",
    "\n",
    "\n",
    "more_attr = pickle.load(open('attr_splits/to_keep_more_under.pkl', 'rb'))\n",
    "more_attr = [chosen_attr[i] for i in more_attr]"
   ]
  },
  {
   "cell_type": "code",
   "execution_count": 498,
   "id": "27f01e06",
   "metadata": {},
   "outputs": [],
   "source": [
    "out_name = 'group'\n",
    "size = 32\n",
    "outsize=16\n",
    "\n",
    "all_imp_attr = {}\n",
    "all_weights = {}\n",
    "\n",
    "for faith in ['somewhat', 'less']:\n",
    "    for under in ['more', 'somewhat', 'less']:\n",
    "        to_use_attr = pickle.load(open('../to_keep_{}_under.pkl'.format(under), 'rb'))\n",
    "        to_use_attr = [chosen_attr[i] for i in to_use_attr]\n",
    "        \n",
    "        m = torch.nn.Linear(len(to_use_attr), outsize)\n",
    "        all_imp_attr[faith, under] = []\n",
    "        all_weights[faith, under] = []\n",
    "        \n",
    "        for i in range(3):\n",
    "            m.load_state_dict(torch.load('record/{}_{}_take{}/{}_faithful_{}_understandable/feature_current.pth'.format(out_name, size, i+1, faith, under),\n",
    "                                         map_location=torch.device('cpu'))['model'])\n",
    "            weights_sum = torch.sum(m.weight*m.weight, dim=0)\n",
    "            weights_sort = torch.sort(weights_sum)\n",
    "            all_imp_attr[faith, under].append([to_use_attr[j] for j in weights_sort[1][-size:]])\n",
    "            all_weights[faith, under].append(m.weight.detach().numpy())"
   ]
  },
  {
   "cell_type": "markdown",
   "id": "bb85d35b",
   "metadata": {},
   "source": [
    "### Concept stats"
   ]
  },
  {
   "cell_type": "code",
   "execution_count": 15,
   "id": "17c23170",
   "metadata": {},
   "outputs": [],
   "source": [
    "import pandas as pd"
   ]
  },
  {
   "cell_type": "code",
   "execution_count": 16,
   "id": "41478576",
   "metadata": {
    "scrolled": true
   },
   "outputs": [
    {
     "data": {
      "text/html": [
       "<div>\n",
       "<style scoped>\n",
       "    .dataframe tbody tr th:only-of-type {\n",
       "        vertical-align: middle;\n",
       "    }\n",
       "\n",
       "    .dataframe tbody tr th {\n",
       "        vertical-align: top;\n",
       "    }\n",
       "\n",
       "    .dataframe thead th {\n",
       "        text-align: right;\n",
       "    }\n",
       "</style>\n",
       "<table border=\"1\" class=\"dataframe\">\n",
       "  <thead>\n",
       "    <tr style=\"text-align: right;\">\n",
       "      <th></th>\n",
       "      <th>name</th>\n",
       "      <th>category</th>\n",
       "      <th>frequency</th>\n",
       "      <th>coverage</th>\n",
       "      <th>syns</th>\n",
       "    </tr>\n",
       "    <tr>\n",
       "      <th>number</th>\n",
       "      <th></th>\n",
       "      <th></th>\n",
       "      <th></th>\n",
       "      <th></th>\n",
       "      <th></th>\n",
       "    </tr>\n",
       "  </thead>\n",
       "  <tbody>\n",
       "    <tr>\n",
       "      <th>1</th>\n",
       "      <td>black-c</td>\n",
       "      <td>color(62358)</td>\n",
       "      <td>62358</td>\n",
       "      <td>11135.320474</td>\n",
       "      <td>NaN</td>\n",
       "    </tr>\n",
       "    <tr>\n",
       "      <th>2</th>\n",
       "      <td>grey-c</td>\n",
       "      <td>color(62310)</td>\n",
       "      <td>62310</td>\n",
       "      <td>12712.843129</td>\n",
       "      <td>NaN</td>\n",
       "    </tr>\n",
       "    <tr>\n",
       "      <th>3</th>\n",
       "      <td>white-c</td>\n",
       "      <td>color(62054)</td>\n",
       "      <td>62054</td>\n",
       "      <td>5778.038204</td>\n",
       "      <td>NaN</td>\n",
       "    </tr>\n",
       "    <tr>\n",
       "      <th>4</th>\n",
       "      <td>brown-c</td>\n",
       "      <td>color(61583)</td>\n",
       "      <td>61583</td>\n",
       "      <td>14549.652454</td>\n",
       "      <td>NaN</td>\n",
       "    </tr>\n",
       "    <tr>\n",
       "      <th>5</th>\n",
       "      <td>green-c</td>\n",
       "      <td>color(61508)</td>\n",
       "      <td>61508</td>\n",
       "      <td>5049.989735</td>\n",
       "      <td>NaN</td>\n",
       "    </tr>\n",
       "    <tr>\n",
       "      <th>...</th>\n",
       "      <td>...</td>\n",
       "      <td>...</td>\n",
       "      <td>...</td>\n",
       "      <td>...</td>\n",
       "      <td>...</td>\n",
       "    </tr>\n",
       "    <tr>\n",
       "      <th>1193</th>\n",
       "      <td>vegetables</td>\n",
       "      <td>object(10)</td>\n",
       "      <td>10</td>\n",
       "      <td>1.043942</td>\n",
       "      <td>NaN</td>\n",
       "    </tr>\n",
       "    <tr>\n",
       "      <th>1194</th>\n",
       "      <td>mountain pass</td>\n",
       "      <td>object(10)</td>\n",
       "      <td>10</td>\n",
       "      <td>1.031784</td>\n",
       "      <td>NaN</td>\n",
       "    </tr>\n",
       "    <tr>\n",
       "      <th>1195</th>\n",
       "      <td>meat</td>\n",
       "      <td>object(10)</td>\n",
       "      <td>10</td>\n",
       "      <td>0.753043</td>\n",
       "      <td>NaN</td>\n",
       "    </tr>\n",
       "    <tr>\n",
       "      <th>1196</th>\n",
       "      <td>canvas</td>\n",
       "      <td>object(10)</td>\n",
       "      <td>10</td>\n",
       "      <td>0.536700</td>\n",
       "      <td>NaN</td>\n",
       "    </tr>\n",
       "    <tr>\n",
       "      <th>1197</th>\n",
       "      <td>shore</td>\n",
       "      <td>object(10)</td>\n",
       "      <td>10</td>\n",
       "      <td>0.527877</td>\n",
       "      <td>NaN</td>\n",
       "    </tr>\n",
       "  </tbody>\n",
       "</table>\n",
       "<p>1197 rows × 5 columns</p>\n",
       "</div>"
      ],
      "text/plain": [
       "                 name      category  frequency      coverage syns\n",
       "number                                                           \n",
       "1             black-c  color(62358)      62358  11135.320474  NaN\n",
       "2              grey-c  color(62310)      62310  12712.843129  NaN\n",
       "3             white-c  color(62054)      62054   5778.038204  NaN\n",
       "4             brown-c  color(61583)      61583  14549.652454  NaN\n",
       "5             green-c  color(61508)      61508   5049.989735  NaN\n",
       "...               ...           ...        ...           ...  ...\n",
       "1193       vegetables    object(10)         10      1.043942  NaN\n",
       "1194    mountain pass    object(10)         10      1.031784  NaN\n",
       "1195             meat    object(10)         10      0.753043  NaN\n",
       "1196           canvas    object(10)         10      0.536700  NaN\n",
       "1197            shore    object(10)         10      0.527877  NaN\n",
       "\n",
       "[1197 rows x 5 columns]"
      ]
     },
     "execution_count": 16,
     "metadata": {},
     "output_type": "execute_result"
    }
   ],
   "source": [
    "lab = pd.read_csv('dataset/broden1_224/label.csv', index_col=0)\n",
    "\n",
    "lab"
   ]
  },
  {
   "cell_type": "code",
   "execution_count": 28,
   "id": "f7e047ed",
   "metadata": {
    "scrolled": false
   },
   "outputs": [],
   "source": [
    "with open('binary_scores.csv', 'w+') as handle:\n",
    "    for key in all_imp_attr:\n",
    "        sizes = []\n",
    "        freqs = []\n",
    "        naps = []\n",
    "        rocs = []\n",
    "        for i in range(3):\n",
    "            l = all_imp_attr[key][i]\n",
    "            size = []\n",
    "            freq = []\n",
    "            nap = []\n",
    "            roc = []\n",
    "            for t in l[::-1]:\n",
    "                size.append(lab['coverage'][t]/(112*112))\n",
    "                freq.append( lab['frequency'][t]/63305)\n",
    "                nap.append(nap_scores[t])\n",
    "                roc.append(roc_scores[t])\n",
    "                \n",
    "            sizes.append(np.average(size))\n",
    "            freqs.append(np.average(freq))\n",
    "            naps.append(np.average(nap))\n",
    "            rocs.append(np.average(roc))\n",
    "            \n",
    "        handle.write('{}, {}, {}, {}, {}, {}, {}, {}, {}, {}\\n'.format(key[0], key[1], \n",
    "                                                                       100*np.average(sizes), 100*np.std(sizes), \n",
    "                                                                       100*np.average(freqs), 100*np.std(freqs),\n",
    "                                                                       100*np.average(naps), 100*np.std(naps),\n",
    "                                                                       100*np.average(rocs), 100*np.std(rocs)))"
   ]
  },
  {
   "cell_type": "markdown",
   "id": "848166ca",
   "metadata": {},
   "source": [
    "### Faithfulness"
   ]
  },
  {
   "cell_type": "code",
   "execution_count": 119,
   "id": "b7407cfc",
   "metadata": {
    "scrolled": true
   },
   "outputs": [
    {
     "name": "stdout",
     "output_type": "stream",
     "text": [
      "4.2000976\n",
      "6.788385\n",
      "0.9313046\n",
      "7.1289024\n",
      "4.999508\n",
      "15.082663\n"
     ]
    }
   ],
   "source": [
    "for faith in ['somewhat', 'less']:\n",
    "    for under in ['more', 'somewhat', 'less']:\n",
    "        u_feat = None\n",
    "        less_attr = pickle.load(open('../to_keep_{}_under.pkl'.format(under), 'rb'))\n",
    "        if under=='more':\n",
    "            temp = [chosen_attr[i] for i in less_attr]\n",
    "            u_feat = attr['val'][:, temp]\n",
    "        elif under=='somewhat':\n",
    "            u_feat = torch.sigmoid(torch.Tensor(rot_feat['val'])[:, less_attr])\n",
    "        else:\n",
    "            u_feat = rot_feat['val'][:, less_attr]\n",
    "        \n",
    "        #less_attr = [chosen_attr[i] for i in less_attr]\n",
    "        m = torch.nn.Linear(len(less_attr), 1)\n",
    "        m.load_state_dict(torch.load('binary_16/{}_faithful_{}_understandable/feature_current.pth'.format(faith, under), map_location=torch.device('cpu'))['model'])\n",
    "        \n",
    "        weights_sum = torch.sum(m.weight*m.weight, dim=0)\n",
    "        weights_sort = torch.sort(weights_sum)\n",
    "\n",
    "        weights_new = torch.zeros_like(m.weight.detach())\n",
    "        \n",
    "        for i in weights_sort[1][-16:]:\n",
    "            weights_new[:, i] = m.weight[:, i].detach()\n",
    "        \n",
    "        m.weight = torch.nn.Parameter(weights_new)\n",
    "        \n",
    "        val_sc = m(torch.Tensor(u_feat)).detach()\n",
    "        \n",
    "        dist = torch.nn.MSELoss()(val_sc, torch.Tensor(logits2['val'] ))\n",
    "        p = np.argmax(val_sc.numpy(), axis=1)\n",
    "        #print(p)\n",
    "        #print(np.average(np.where(p==pred['val'], 1, 0)))\n",
    "        print(dist.numpy())\n",
    "        "
   ]
  },
  {
   "cell_type": "code",
   "execution_count": 120,
   "id": "2106022b",
   "metadata": {},
   "outputs": [
    {
     "name": "stdout",
     "output_type": "stream",
     "text": [
      "0.9625031669622498\n",
      "0.9614897390423106\n",
      "0.9878388649607297\n",
      "0.9551558145426906\n",
      "0.9789713706612617\n",
      "0.9868254370407905\n"
     ]
    }
   ],
   "source": [
    "for faith in ['somewhat', 'less']:\n",
    "    for under in ['more', 'somewhat', 'less']:\n",
    "        A = torch.load('binary_16//{}_faithful_{}_understandable/final_exp16.pth'.format(faith, under), map_location=torch.device('cpu'))\n",
    "        print(A['final_acc'])"
   ]
  },
  {
   "cell_type": "code",
   "execution_count": 95,
   "id": "3f825ca5",
   "metadata": {},
   "outputs": [
    {
     "data": {
      "text/plain": [
       "(11839, 1200)"
      ]
     },
     "execution_count": 95,
     "metadata": {},
     "output_type": "execute_result"
    }
   ],
   "source": [
    "attr['train'].shape"
   ]
  },
  {
   "cell_type": "code",
   "execution_count": 109,
   "id": "4ed2c0a0",
   "metadata": {},
   "outputs": [
    {
     "name": "stdout",
     "output_type": "stream",
     "text": [
      "20 (1301, 20) (1301, 309)\n"
     ]
    }
   ],
   "source": [
    "relevant_attr = sorted([52, 45, 121, 203, 319, 215, 328, 175, 283, 182, 281, 51, 363, 307, 112, 256, 102, 352, 125, 26])\n",
    "\n",
    "\n",
    "val_idx = []\n",
    "for a in relevant_attr:\n",
    "    val_idx += list(np.argwhere(np.array(pred365['val']) == a).reshape(-1))\n",
    "\n",
    "#print(val_idx)\n",
    "\n",
    "\n",
    "val_attr = attr['val'][val_idx]\n",
    "val_pred365 = np.array(pred365['val'])[val_idx]\n",
    "val_pred365 = torch.Tensor([relevant_attr.index(a) for a in val_pred365])\n",
    "val_logits = logits365['val'][val_idx]\n",
    "val_logits = val_logits[:, relevant_attr]\n",
    "val_rot_features = rot_feat['val'][val_idx]\n",
    "\n",
    "\n",
    "print(len(np.unique(val_pred365)), val_logits.shape, val_rot_features.shape)"
   ]
  },
  {
   "cell_type": "code",
   "execution_count": 112,
   "id": "f12bdf5d",
   "metadata": {},
   "outputs": [
    {
     "name": "stdout",
     "output_type": "stream",
     "text": [
      "4.1236434\n",
      "3.3936155\n",
      "2.2032647\n",
      "60.43229\n",
      "41.264492\n",
      "23.79816\n"
     ]
    }
   ],
   "source": [
    "for faith in ['somewhat', 'less']:\n",
    "    for under in ['more', 'somewhat', 'less']:\n",
    "        u_feat = None\n",
    "        less_attr = pickle.load(open('../to_keep_{}_under.pkl'.format(under), 'rb'))\n",
    "        if under=='more':\n",
    "            temp = [chosen_attr[i] for i in less_attr]\n",
    "            u_feat = val_attr[:, temp]\n",
    "        elif under=='somewhat':\n",
    "            u_feat = torch.sigmoid(torch.Tensor(val_rot_features)[:, less_attr])\n",
    "        else:\n",
    "            u_feat = val_rot_features[:, less_attr]\n",
    "        \n",
    "        #less_attr = [chosen_attr[i] for i in less_attr]\n",
    "        m = torch.nn.Linear(len(less_attr), 20)\n",
    "        m.load_state_dict(torch.load('all_32/{}_faithful_{}_understandable/feature_current.pth'.format(faith, under), map_location=torch.device('cpu'))['model'])\n",
    "        \n",
    "        weights_sum = torch.sum(m.weight*m.weight, dim=0)\n",
    "        weights_sort = torch.sort(weights_sum)\n",
    "\n",
    "        weights_new = torch.zeros_like(m.weight.detach())\n",
    "        \n",
    "        for i in weights_sort[1][-32:]:\n",
    "            weights_new[:, i] = m.weight[:, i].detach()\n",
    "        \n",
    "        m.weight = torch.nn.Parameter(weights_new)\n",
    "        \n",
    "        val_sc = m(torch.Tensor(u_feat)).detach()\n",
    "        \n",
    "        dist = torch.nn.MSELoss()(val_sc, torch.Tensor(val_logits))\n",
    "        p = np.argmax(val_sc.numpy(), axis=1)\n",
    "        #print(p)\n",
    "        #print(np.average(np.where(p==pred['val'], 1, 0)))\n",
    "        print(dist.numpy())\n",
    "        "
   ]
  },
  {
   "cell_type": "code",
   "execution_count": 24,
   "id": "7789f713",
   "metadata": {},
   "outputs": [
    {
     "name": "stderr",
     "output_type": "stream",
     "text": [
      "<ipython-input-24-39c9b42834b9>:23: UserWarning: FixedFormatter should only be used together with FixedLocator\n",
      "  axs[i].set_yticklabels(ylab, fontsize=22)\n"
     ]
    },
    {
     "data": {
      "image/png": "[encoded data removed]",
      "text/plain": [
       "<Figure size 1440x288 with 3 Axes>"
      ]
     },
     "metadata": {
      "needs_background": "light"
     },
     "output_type": "display_data"
    }
   ],
   "source": [
    "import matplotlib.pyplot as plt\n",
    "import numpy as np\n",
    "#plt.rcParams.update({\n",
    "#    \"font.family\": \"serif\",})\n",
    "plt.rcParams[\"font.family\"] = \"serif\"\n",
    "plt.rcParams['mathtext.fontset'] = 'dejavuserif'\n",
    "\n",
    "gp_freq = [0.0615744215,0.0301807717,0.023963352,0.0627255943,0.030825468,0.0435490877]\n",
    "gp_size = [0.0477976561,0.0160639097,0.0165890398,0.0486442864,0.021198042,0.0302984213]\n",
    "gp_ap = [0.8697079,0.8061248,0.7964515,0.8792260,0.8199726,0.8151784]\n",
    "\n",
    "x_val = [-0.25, 0, 0.25, 0.75, 1, 1.25]\n",
    "\n",
    "all_gp = [gp_freq, gp_size, gp_ap]\n",
    "col = [colors[0], colors[1], colors[2], colors[0], colors[1], colors[2]]\n",
    "fig, axs = plt.subplots(1, 3, figsize=(20, 4))\n",
    "\n",
    "for i in range(3):\n",
    "    axs[i].bar(x_val, all_gp[i],  width=0.25, color = col)\n",
    "    axs[i].set_xticks(np.arange(2))\n",
    "    axs[i].set_xticklabels([r'$\\ddot{\\mathbf{F}}$', r'$\\dot{\\mathbf{F}}$'], fontsize=28)\n",
    "    ylab = np.round(axs[i].get_yticks(), 2)\n",
    "    axs[i].set_yticklabels(ylab, fontsize=22)\n",
    "    #axs[i].xaxis.labelpad = 1100\n",
    "axs[0].set_ylabel('Grouped', fontsize=28)\n",
    "axs[0].set_title('Frequency', fontsize=28)\n",
    "axs[1].set_title('Frac. Size', fontsize=28)\n",
    "axs[2].set_title('Norm. AP', fontsize=28)\n",
    "#plt.bar(np.array([0, 1])-0.25, all_gini[:, :, 0].reshape(-1), width=0.25, color = colors[0], label=\"Least understandable\")\n",
    "#plt.bar(np.array([0, 1, 2.5, 3.5, 5, 6]), all_gini[:, :, 1].reshape(-1), width=0.25, color = colors[1], label=\"Somewhat understandable\")\n",
    "#plt.bar(np.array([0, 1, 2.5, 3.5, 5, 6])+0.25, all_gini[:, :, 2].reshape(-1), width=0.25, color = colors[2], label=\"Most understandable\")\n",
    "#plt.legend(loc='upper right', fontsize=24)\n",
    "#plt.xticks(np.array([0, 1, 2.5, 3.5, 5, 6]), ['Somewhat', 'Least', 'Somewhat', 'Least','Somewhat', 'Least'], fontsize=24)\n",
    "#plt.ylabel('Median Concept Gini', fontsize=24)\n",
    "#plt.yticks(fontsize=20)\n",
    "fig.savefig('grouped.png', bbox_inches='tight')"
   ]
  },
  {
   "cell_type": "code",
   "execution_count": 376,
   "id": "9a776e66",
   "metadata": {},
   "outputs": [
    {
     "data": {
      "image/png": "[encoded data removed]",
      "text/plain": [
       "<Figure size 1800x288 with 4 Axes>"
      ]
     },
     "metadata": {
      "needs_background": "light"
     },
     "output_type": "display_data"
    }
   ],
   "source": [
    "A = pd.read_csv('all_scores.csv')\n",
    "\n",
    "gp_size = A['size']\n",
    "gp_freq = A['freq']\n",
    "gp_ap = A['NAP']\n",
    "gp_roc = A['ROC']\n",
    "\n",
    "x_val = [-0.25, 0, 0.25, 0.75, 1, 1.25]\n",
    "\n",
    "all_gp = [gp_freq, gp_size, gp_ap, gp_roc]\n",
    "all_errs = [A['size_std'], A['freq_std'], A['NAP_std'], A['ROC_std']]\n",
    "col = [colors[0], colors[1], colors[2], colors[0], colors[1], colors[2]]\n",
    "fig, axs = plt.subplots(1, 4, figsize=(25, 4))\n",
    "\n",
    "for i in range(4):\n",
    "    axs[i].bar(x_val, all_gp[i], yerr=all_errs[i],  width=0.25, color = col,  capsize=10)\n",
    "    axs[i].set_xticks(np.arange(2))\n",
    "    axs[i].set_xticklabels(['FF', 'F'], fontsize=28)\n",
    "    #ylab = np.round(axs[i].get_yticks())\n",
    "    #axs[i].yaxis.set_major_formatter(StrMethodFormatter('{x:,d}'))\n",
    "    #axs[i].set_yticklabels(ylab, fontsize=22)\n",
    "    #axs[i].xaxis.labelpad = 1100\n",
    "axs[0].set_ylabel('Fine-grained', fontsize=28)\n",
    "axs[0].set_title('Frequency', fontsize=28)\n",
    "axs[1].set_title('Frac. Size', fontsize=28)\n",
    "axs[2].set_title('Norm. AP', fontsize=28)\n",
    "axs[3].set_title('ROC AUC', fontsize=28)\n",
    "\n",
    "axs[0].set_yticks([0, 2, 4, 6])\n",
    "axs[0].set_yticklabels([0, 2, 4, 6], fontsize=22)\n",
    "\n",
    "axs[1].set_yticks([0, 2, 4, 6])\n",
    "axs[1].set_yticklabels([0, 2, 4, 6], fontsize=22)\n",
    "\n",
    "axs[2].set_ylim(50, 100)\n",
    "axs[2].set_yticks([50, 75, 100])\n",
    "axs[2].set_yticklabels([50, 75, 100], fontsize=22)\n",
    "\n",
    "axs[3].set_ylim(50, 100)\n",
    "axs[3].set_yticks([50, 75, 100])\n",
    "axs[3].set_yticklabels([50, 75, 100], fontsize=22)\n",
    "\n",
    "#plt.bar(np.array([0, 1])-0.25, all_gini[:, :, 0].reshape(-1), width=0.25, color = colors[0], label=\"Least understandable\")\n",
    "#plt.bar(np.array([0, 1, 2.5, 3.5, 5, 6]), all_gini[:, :, 1].reshape(-1), width=0.25, color = colors[1], label=\"Somewhat understandable\")\n",
    "#plt.bar(np.array([0, 1, 2.5, 3.5, 5, 6])+0.25, all_gini[:, :, 2].reshape(-1), width=0.25, color = colors[2], label=\"Most understandable\")\n",
    "#plt.legend(loc='upper right', fontsize=24)\n",
    "#plt.xticks(np.array([0, 1, 2.5, 3.5, 5, 6]), ['Somewhat', 'Least', 'Somewhat', 'Least','Somewhat', 'Least'], fontsize=24)\n",
    "#plt.ylabel('Median Concept Gini', fontsize=24)\n",
    "#plt.yticks(fontsize=20)\n",
    "fig.savefig('all.png', bbox_inches='tight')"
   ]
  },
  {
   "cell_type": "code",
   "execution_count": 361,
   "id": "cf09468b",
   "metadata": {},
   "outputs": [],
   "source": [
    "from matplotlib.ticker import StrMethodFormatter\n",
    "\n"
   ]
  },
  {
   "cell_type": "code",
   "execution_count": 359,
   "id": "7428d8fd",
   "metadata": {},
   "outputs": [
    {
     "data": {
      "text/plain": [
       "array([  0.,  20.,  40.,  60.,  80., 100.])"
      ]
     },
     "execution_count": 359,
     "metadata": {},
     "output_type": "execute_result"
    }
   ],
   "source": [
    "np.round(axs[i].get_yticks())"
   ]
  },
  {
   "cell_type": "code",
   "execution_count": 77,
   "id": "4f5d597e",
   "metadata": {},
   "outputs": [],
   "source": [
    "colors = [(0.5568627450980392, 0.792156862745098, 0.9019607843137255),\n",
    " (0.12941176470588237, 0.6196078431372549, 0.7372549019607844),\n",
    " (0.00784313725490196, 0.18823529411764706, 0.2784313725490196),\n",
    " (1.0, 0.7176470588235294, 0.011764705882352941),\n",
    " (0.984313725490196, 0.5215686274509804, 0.0),\n",
    " (0.9019607843137255, 0.2235294117647059, 0.27450980392156865),\n",
    " (0.6588235294117647, 0.8549019607843137, 0.8627450980392157),\n",
    " (0.27058823529411763, 0.4823529411764706, 0.615686274509804),\n",
    " (0.5529411764705883, 0.6, 0.6823529411764706),\n",
    " (0.0, 0.6588235294117647, 0.5882352941176471),\n",
    " (0.9450980392156862, 0.3568627450980392, 0.7098039215686275),\n",
    " (0.8784313725490196, 0.6666666666666666, 1.0),\n",
    " (0.792156862745098, 0.403921568627451, 0.00784313725490196),\n",
    " (1.0, 0.7843137254901961, 0.8666666666666667)]"
   ]
  },
  {
   "cell_type": "code",
   "execution_count": 30,
   "id": "28607013",
   "metadata": {},
   "outputs": [],
   "source": [
    "import matplotlib.pyplot as plt"
   ]
  },
  {
   "cell_type": "code",
   "execution_count": 43,
   "id": "78a39d9b",
   "metadata": {},
   "outputs": [
    {
     "data": {
      "text/html": [
       "<div>\n",
       "<style scoped>\n",
       "    .dataframe tbody tr th:only-of-type {\n",
       "        vertical-align: middle;\n",
       "    }\n",
       "\n",
       "    .dataframe tbody tr th {\n",
       "        vertical-align: top;\n",
       "    }\n",
       "\n",
       "    .dataframe thead th {\n",
       "        text-align: right;\n",
       "    }\n",
       "</style>\n",
       "<table border=\"1\" class=\"dataframe\">\n",
       "  <thead>\n",
       "    <tr style=\"text-align: right;\">\n",
       "      <th></th>\n",
       "      <th>faithful</th>\n",
       "      <th>understandable</th>\n",
       "      <th>size</th>\n",
       "      <th>size_std</th>\n",
       "      <th>freq</th>\n",
       "      <th>freq_std</th>\n",
       "      <th>NAP</th>\n",
       "      <th>NAP_std</th>\n",
       "      <th>ROC</th>\n",
       "      <th>ROC_std</th>\n",
       "    </tr>\n",
       "  </thead>\n",
       "  <tbody>\n",
       "    <tr>\n",
       "      <th>0</th>\n",
       "      <td>somewhat</td>\n",
       "      <td>more</td>\n",
       "      <td>7.677179</td>\n",
       "      <td>0.175868</td>\n",
       "      <td>8.137654</td>\n",
       "      <td>0.039646</td>\n",
       "      <td>89.381775</td>\n",
       "      <td>0.861418</td>\n",
       "      <td>93.577787</td>\n",
       "      <td>0.666841</td>\n",
       "    </tr>\n",
       "    <tr>\n",
       "      <th>1</th>\n",
       "      <td>somewhat</td>\n",
       "      <td>somewhat</td>\n",
       "      <td>5.639846</td>\n",
       "      <td>0.172961</td>\n",
       "      <td>6.165719</td>\n",
       "      <td>0.299207</td>\n",
       "      <td>83.858453</td>\n",
       "      <td>0.848465</td>\n",
       "      <td>90.819933</td>\n",
       "      <td>0.399694</td>\n",
       "    </tr>\n",
       "    <tr>\n",
       "      <th>2</th>\n",
       "      <td>somewhat</td>\n",
       "      <td>less</td>\n",
       "      <td>3.735578</td>\n",
       "      <td>0.035928</td>\n",
       "      <td>3.724462</td>\n",
       "      <td>0.042259</td>\n",
       "      <td>85.000524</td>\n",
       "      <td>0.076920</td>\n",
       "      <td>91.755058</td>\n",
       "      <td>0.181990</td>\n",
       "    </tr>\n",
       "    <tr>\n",
       "      <th>3</th>\n",
       "      <td>less</td>\n",
       "      <td>more</td>\n",
       "      <td>7.747312</td>\n",
       "      <td>0.360435</td>\n",
       "      <td>8.562877</td>\n",
       "      <td>0.463780</td>\n",
       "      <td>89.392377</td>\n",
       "      <td>1.988633</td>\n",
       "      <td>93.773011</td>\n",
       "      <td>1.139308</td>\n",
       "    </tr>\n",
       "    <tr>\n",
       "      <th>4</th>\n",
       "      <td>less</td>\n",
       "      <td>somewhat</td>\n",
       "      <td>5.391676</td>\n",
       "      <td>0.326023</td>\n",
       "      <td>6.078114</td>\n",
       "      <td>0.591492</td>\n",
       "      <td>84.154111</td>\n",
       "      <td>0.373585</td>\n",
       "      <td>90.614105</td>\n",
       "      <td>0.149614</td>\n",
       "    </tr>\n",
       "    <tr>\n",
       "      <th>5</th>\n",
       "      <td>less</td>\n",
       "      <td>less</td>\n",
       "      <td>5.859766</td>\n",
       "      <td>0.708924</td>\n",
       "      <td>7.347728</td>\n",
       "      <td>1.133242</td>\n",
       "      <td>86.025651</td>\n",
       "      <td>1.991569</td>\n",
       "      <td>91.832588</td>\n",
       "      <td>1.170553</td>\n",
       "    </tr>\n",
       "  </tbody>\n",
       "</table>\n",
       "</div>"
      ],
      "text/plain": [
       "   faithful understandable      size  size_std      freq  freq_std        NAP  \\\n",
       "0  somewhat           more  7.677179  0.175868  8.137654  0.039646  89.381775   \n",
       "1  somewhat       somewhat  5.639846  0.172961  6.165719  0.299207  83.858453   \n",
       "2  somewhat           less  3.735578  0.035928  3.724462  0.042259  85.000524   \n",
       "3      less           more  7.747312  0.360435  8.562877  0.463780  89.392377   \n",
       "4      less       somewhat  5.391676  0.326023  6.078114  0.591492  84.154111   \n",
       "5      less           less  5.859766  0.708924  7.347728  1.133242  86.025651   \n",
       "\n",
       "    NAP_std        ROC   ROC_std  \n",
       "0  0.861418  93.577787  0.666841  \n",
       "1  0.848465  90.819933  0.399694  \n",
       "2  0.076920  91.755058  0.181990  \n",
       "3  1.988633  93.773011  1.139308  \n",
       "4  0.373585  90.614105  0.149614  \n",
       "5  1.991569  91.832588  1.170553  "
      ]
     },
     "execution_count": 43,
     "metadata": {},
     "output_type": "execute_result"
    }
   ],
   "source": [
    "A = pd.read_csv('binary_scores.csv')\n",
    "\n",
    "A"
   ]
  },
  {
   "cell_type": "code",
   "execution_count": 45,
   "id": "773f2f9a",
   "metadata": {},
   "outputs": [
    {
     "name": "stdout",
     "output_type": "stream",
     "text": [
      "0.001 0.3541930580187484\n",
      "0.01 0.4752976944514821\n",
      "0.05 0.5201418799087915\n",
      "0.07 0.5262224474284266\n",
      "0.1 0.5302761591081834\n",
      "1.0 0.5393970103876362\n",
      "10 0.5391436534076514\n"
     ]
    }
   ],
   "source": [
    "from sklearn.linear_model import LogisticRegression\n",
    "\n",
    "clfs = []\n",
    "\n",
    "for C in [0.001, 0.01, 0.05, 0.07, 0.1, 1.0, 10]:\n",
    "    clf = LogisticRegression(C=C, solver=\"liblinear\", penalty='l1')\n",
    "    clf.fit(attr['train'][:, more_attr], pred['train'])\n",
    "    print(C, clf.score(attr['val'][:, more_attr], pred['val']))\n",
    "    clfs.append(clf)"
   ]
  },
  {
   "cell_type": "code",
   "execution_count": 46,
   "id": "1a5814b6",
   "metadata": {},
   "outputs": [
    {
     "data": {
      "text/plain": [
       "33"
      ]
     },
     "execution_count": 46,
     "metadata": {},
     "output_type": "execute_result"
    }
   ],
   "source": [
    "np.count_nonzero(np.sum(np.abs(clfs[2].coef_), axis=0))"
   ]
  },
  {
   "cell_type": "code",
   "execution_count": 40,
   "id": "e29a9784",
   "metadata": {},
   "outputs": [
    {
     "data": {
      "text/plain": [
       "(16, 65)"
      ]
     },
     "execution_count": 40,
     "metadata": {},
     "output_type": "execute_result"
    }
   ],
   "source": [
    "clfs[2].coef_.shape"
   ]
  },
  {
   "cell_type": "code",
   "execution_count": 149,
   "id": "42332316",
   "metadata": {},
   "outputs": [],
   "source": [
    "scene_attrs = {}\n",
    "for scene in range(outsize):\n",
    "    scene_attrs[scene] = {}\n",
    "    for faith in ['somewhat', 'less']:\n",
    "        for under in ['more', 'somewhat', 'less']:\n",
    "            to_use_attr = pickle.load(open('../to_keep_{}_under.pkl'.format(under), 'rb'))\n",
    "            to_use_attr = [chosen_attr[i] for i in to_use_attr]\n",
    "            t = all_weights[faith, under][0][scene]\n",
    "            \n",
    "            attr_used = [to_use_attr[i] for i in np.argsort(np.abs(t)).squeeze()[::-1][:10]]\n",
    "            \n",
    "            scene_attrs[scene][faith, under] = attr_used\n",
    "            "
   ]
  },
  {
   "cell_type": "code",
   "execution_count": 150,
   "id": "003ede68",
   "metadata": {},
   "outputs": [],
   "source": [
    "avg_overlaps_bin = []\n",
    "\n",
    "for scene in range(outsize):\n",
    "    for key1 in scene_attrs[scene]:\n",
    "        for key2 in scene_attrs[scene]:\n",
    "            if key1==key2:\n",
    "                continue\n",
    "            avg_overlaps_bin.append(len(set(scene_attrs[scene][key1]).intersection(set(scene_attrs[scene][key2]))))"
   ]
  },
  {
   "cell_type": "code",
   "execution_count": 151,
   "id": "73aafb9b",
   "metadata": {},
   "outputs": [
    {
     "data": {
      "text/plain": [
       "30"
      ]
     },
     "execution_count": 151,
     "metadata": {},
     "output_type": "execute_result"
    }
   ],
   "source": [
    "len(avg_overlaps_bin)"
   ]
  },
  {
   "cell_type": "code",
   "execution_count": 127,
   "id": "c3f63b0f",
   "metadata": {},
   "outputs": [],
   "source": [
    "avg_attr1200['']Concepts chosen by IBD~\\cite{zhou2018ibd} versus that chosen by our method.overlaps_fine = avg_overlaps[:600]"
   ]
  },
  {
   "cell_type": "code",
   "execution_count": 121,
   "id": "68a1f637",
   "metadata": {},
   "outputs": [
    {
     "data": {
      "image/png": "[encoded data removed]",
      "text/plain": [
       "<Figure size 432x288 with 1 Axes>"
      ]
     },
     "metadata": {
      "needs_background": "light"
     },
     "output_type": "display_data"
    }
   ],
   "source": [
    "from collections import Counter\n",
    "\n",
    "plt.hist(avg_overlaps, bins=np.linspace(-0.5, 7.5, 9),color=colors[1])\n",
    "plt.axvline(np.median(avg_overlaps), c=colors[2], linestyle='--')\n",
    "ylab = np.round(axs[i].get_yticks(), 2)\n",
    "plt.xticks([0, 2, 4, 6, 8], fontsize=16)\n",
    "plt.yticks([0, 100, 200], fontsize=16)\n",
    "plt.xlabel('Number of common concepts', fontsize=18)\n",
    "plt.title('Fine-grained', fontsize=18)\n",
    "\n",
    "plt.savefig('finegrained_hist.pdf', bbox_inches='tight' )"
   ]
  },
  {
   "cell_type": "code",
   "execution_count": 159,
   "id": "47753155",
   "metadata": {},
   "outputs": [
    {
     "data": {
      "image/png": "[encoded data removed]",
      "text/plain": [
       "<Figure size 1440x288 with 3 Axes>"
      ]
     },
     "metadata": {
      "needs_background": "light"
     },
     "output_type": "display_data"
    }
   ],
   "source": [
    "fig, axs = plt.subplots(1, 3, figsize=(20, 4))\n",
    "\n",
    "axs[0].hist(avg_overlaps_bin, bins=np.linspace(-0.5, 6.5, 8),color=colors[1])\n",
    "axs[0].axvline(np.median(avg_overlaps_bin), c=colors[2], linestyle='--')\n",
    "axs[0].set_xticks([0, 2, 4, 6])\n",
    "axs[0].set_xticklabels([0, 2, 4, 6], fontsize=18)\n",
    "axs[0].set_yticks([0, 5, 10])\n",
    "axs[0].set_yticklabels( [0, 5, 10], fontsize=18)\n",
    "\n",
    "axs[0].set_title('Binary', fontsize=24)\n",
    "axs[0].set_xlabel('Number of common concepts', fontsize=22)\n",
    "axs[1].set_xlabel('Number of common concepts', fontsize=22)\n",
    "axs[2].set_xlabel('Number of common concepts', fontsize=22)\n",
    "\n",
    "axs[1].hist(avg_overlaps_group, bins=np.linspace(-0.5, 7.5, 9),color=colors[1])\n",
    "axs[1].axvline(np.median(avg_overlaps_group), c=colors[2], linestyle='--')\n",
    "axs[1].set_xticks([0, 2, 4, 6, 8])\n",
    "axs[1].set_xticklabels([0, 2, 4, 6, 8], fontsize=18)\n",
    "axs[1].set_yticks([0, 75, 150])\n",
    "axs[1].set_yticklabels( [0, 75, 150], fontsize=18)\n",
    "\n",
    "axs[1].set_title('Grouped', fontsize=24)\n",
    "\n",
    "axs[2].hist(avg_overlaps_fine, bins=np.linspace(-0.5, 7.5, 9),color=colors[1])\n",
    "axs[2].axvline(np.median(avg_overlaps_fine), c=colors[2], linestyle='--')\n",
    "axs[2].set_xticks([0, 2, 4, 6, 8])\n",
    "axs[2].set_xticklabels([0, 2, 4, 6, 8], fontsize=18)\n",
    "axs[2].set_yticks([0, 100, 200])\n",
    "axs[2].set_yticklabels( [0, 100, 200], fontsize=18)\n",
    "\n",
    "axs[2].set_title('Fine-grained', fontsize=24)\n",
    "\n",
    "fig.savefig('all_hist.pdf', bbox_inches='tight')"
   ]
  },
  {
   "cell_type": "code",
   "execution_count": 414,
   "id": "1bb17852",
   "metadata": {},
   "outputs": [
    {
     "name": "stdout",
     "output_type": "stream",
     "text": [
      "0.001 0 0.0983858570330515\n",
      "0.01 8 0.3889315910837817\n",
      "0.03 18 0.46272098385857036\n",
      "0.05 23 0.4650269023827825\n",
      "0.1 29 0.4734819369715603\n",
      "0.3 42 0.4819369715603382\n",
      "0.5 50 0.4811683320522675\n",
      "0.7 54 0.4888547271329746\n",
      "1.0 56 0.49269792467332824\n",
      "5.0 62 0.49116064565718676\n"
     ]
    }
   ],
   "source": [
    "from sklearn.linear_model import LogisticRegression\n",
    "\n",
    "clfs = []\n",
    "\n",
    "accs = []\n",
    "counts = []\n",
    "\n",
    "for c in [0.001, 0.01, 0.03, 0.05, 0.1, 0.3, 0.5, 0.7, 1.0, 5.0]:\n",
    "    clf = LogisticRegression(penalty='l1', solver='liblinear', C=c)\n",
    "    clf.fit(train_attr[:, more_attr], train_pred365)\n",
    "    \n",
    "    print(c, np.count_nonzero(np.sum(np.abs(clf.coef_), axis=0)), \n",
    "          clf.score(val_attr[:, more_attr], val_pred365))\n",
    "    clfs.append(clf)\n",
    "    counts.append(np.count_nonzero(np.sum(np.abs(clf.coef_), axis=0)))\n",
    "    accs.append(clf.score(val_attr[:, more_attr], val_pred365))"
   ]
  },
  {
   "cell_type": "code",
   "execution_count": 416,
   "id": "e27d2ff7",
   "metadata": {},
   "outputs": [
    {
     "data": {
      "text/plain": [
       "<matplotlib.collections.PathCollection at 0x7fb449cf4b50>"
      ]
     },
     "execution_count": 416,
     "metadata": {},
     "output_type": "execute_result"
    },
    {
     "data": {
      "image/png": "[encoded data removed]",
      "text/plain": [
       "<Figure size 432x288 with 1 Axes>"
      ]
     },
     "metadata": {
      "needs_background": "light"
     },
     "output_type": "display_data"
    }
   ],
   "source": [
    "#plt.scatter([0.001, 0.01, 0.03, 0.05, 0.1, 0.3, 0.5, 0.7, 1.0, 5.0], accs)\n",
    "plt.scatter(counts, accs)"
   ]
  },
  {
   "cell_type": "code",
   "execution_count": null,
   "id": "7f0c39c2",
   "metadata": {},
   "outputs": [],
   "source": []
  }
 ],
 "metadata": {
  "kernelspec": {
   "display_name": "Python 3",
   "language": "python",
   "name": "python3"
  },
  "language_info": {
   "codemirror_mode": {
    "name": "ipython",
    "version": 3
   },
   "file_extension": ".py",
   "mimetype": "text/x-python",
   "name": "python",
   "nbconvert_exporter": "python",
   "pygments_lexer": "ipython3",
   "version": "3.8.5"
  }
 },
 "nbformat": 4,
 "nbformat_minor": 5
}
